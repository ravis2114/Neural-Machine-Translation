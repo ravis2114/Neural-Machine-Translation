{
  "nbformat": 4,
  "nbformat_minor": 5,
  "metadata": {
    "kernelspec": {
      "display_name": "Python 3",
      "language": "python",
      "name": "python3"
    },
    "language_info": {
      "codemirror_mode": {
        "name": "ipython",
        "version": 3
      },
      "file_extension": ".py",
      "mimetype": "text/x-python",
      "name": "python",
      "nbconvert_exporter": "python",
      "pygments_lexer": "ipython3",
      "version": "3.8.2"
    },
    "colab": {
      "name": "neural_machine_translation.ipynb",
      "provenance": [],
      "collapsed_sections": []
    },
    "accelerator": "TPU"
  },
  "cells": [
    {
      "cell_type": "code",
      "metadata": {
        "id": "laden-johnson",
        "colab": {
          "base_uri": "https://localhost:8080/"
        },
        "outputId": "2889d982-b0ca-49a3-81b1-bb5bc73a6de5"
      },
      "source": [
        "# creating TPU environment to create model architecture and initialize architecture's variable on TPU\n",
        "import os\n",
        "import tensorflow as tf\n",
        "\n",
        "resolver = tf.distribute.cluster_resolver.TPUClusterResolver(tpu='grpc://' + os.environ['COLAB_TPU_ADDR'])\n",
        "tf.config.experimental_connect_to_cluster(resolver)\n",
        "# This is the TPU initialization code that has to be at the beginning.\n",
        "tf.tpu.experimental.initialize_tpu_system(resolver)\n",
        "# create a distribution stratagy\n",
        "strategy = tf.distribute.TPUStrategy(resolver)"
      ],
      "id": "laden-johnson",
      "execution_count": null,
      "outputs": [
        {
          "output_type": "stream",
          "text": [
            "INFO:tensorflow:Initializing the TPU system: grpc://10.5.221.42:8470\n"
          ],
          "name": "stdout"
        },
        {
          "output_type": "stream",
          "text": [
            "INFO:tensorflow:Initializing the TPU system: grpc://10.5.221.42:8470\n"
          ],
          "name": "stderr"
        },
        {
          "output_type": "stream",
          "text": [
            "INFO:tensorflow:Clearing out eager caches\n"
          ],
          "name": "stdout"
        },
        {
          "output_type": "stream",
          "text": [
            "INFO:tensorflow:Clearing out eager caches\n"
          ],
          "name": "stderr"
        },
        {
          "output_type": "stream",
          "text": [
            "INFO:tensorflow:Finished initializing TPU system.\n"
          ],
          "name": "stdout"
        },
        {
          "output_type": "stream",
          "text": [
            "INFO:tensorflow:Finished initializing TPU system.\n"
          ],
          "name": "stderr"
        },
        {
          "output_type": "stream",
          "text": [
            "INFO:tensorflow:Found TPU system:\n"
          ],
          "name": "stdout"
        },
        {
          "output_type": "stream",
          "text": [
            "INFO:tensorflow:Found TPU system:\n"
          ],
          "name": "stderr"
        },
        {
          "output_type": "stream",
          "text": [
            "INFO:tensorflow:*** Num TPU Cores: 8\n"
          ],
          "name": "stdout"
        },
        {
          "output_type": "stream",
          "text": [
            "INFO:tensorflow:*** Num TPU Cores: 8\n"
          ],
          "name": "stderr"
        },
        {
          "output_type": "stream",
          "text": [
            "INFO:tensorflow:*** Num TPU Workers: 1\n"
          ],
          "name": "stdout"
        },
        {
          "output_type": "stream",
          "text": [
            "INFO:tensorflow:*** Num TPU Workers: 1\n"
          ],
          "name": "stderr"
        },
        {
          "output_type": "stream",
          "text": [
            "INFO:tensorflow:*** Num TPU Cores Per Worker: 8\n"
          ],
          "name": "stdout"
        },
        {
          "output_type": "stream",
          "text": [
            "INFO:tensorflow:*** Num TPU Cores Per Worker: 8\n"
          ],
          "name": "stderr"
        },
        {
          "output_type": "stream",
          "text": [
            "INFO:tensorflow:*** Available Device: _DeviceAttributes(/job:localhost/replica:0/task:0/device:CPU:0, CPU, 0, 0)\n"
          ],
          "name": "stdout"
        },
        {
          "output_type": "stream",
          "text": [
            "INFO:tensorflow:*** Available Device: _DeviceAttributes(/job:localhost/replica:0/task:0/device:CPU:0, CPU, 0, 0)\n"
          ],
          "name": "stderr"
        },
        {
          "output_type": "stream",
          "text": [
            "INFO:tensorflow:*** Available Device: _DeviceAttributes(/job:worker/replica:0/task:0/device:CPU:0, CPU, 0, 0)\n"
          ],
          "name": "stdout"
        },
        {
          "output_type": "stream",
          "text": [
            "INFO:tensorflow:*** Available Device: _DeviceAttributes(/job:worker/replica:0/task:0/device:CPU:0, CPU, 0, 0)\n"
          ],
          "name": "stderr"
        },
        {
          "output_type": "stream",
          "text": [
            "INFO:tensorflow:*** Available Device: _DeviceAttributes(/job:worker/replica:0/task:0/device:TPU:0, TPU, 0, 0)\n"
          ],
          "name": "stdout"
        },
        {
          "output_type": "stream",
          "text": [
            "INFO:tensorflow:*** Available Device: _DeviceAttributes(/job:worker/replica:0/task:0/device:TPU:0, TPU, 0, 0)\n"
          ],
          "name": "stderr"
        },
        {
          "output_type": "stream",
          "text": [
            "INFO:tensorflow:*** Available Device: _DeviceAttributes(/job:worker/replica:0/task:0/device:TPU:1, TPU, 0, 0)\n"
          ],
          "name": "stdout"
        },
        {
          "output_type": "stream",
          "text": [
            "INFO:tensorflow:*** Available Device: _DeviceAttributes(/job:worker/replica:0/task:0/device:TPU:1, TPU, 0, 0)\n"
          ],
          "name": "stderr"
        },
        {
          "output_type": "stream",
          "text": [
            "INFO:tensorflow:*** Available Device: _DeviceAttributes(/job:worker/replica:0/task:0/device:TPU:2, TPU, 0, 0)\n"
          ],
          "name": "stdout"
        },
        {
          "output_type": "stream",
          "text": [
            "INFO:tensorflow:*** Available Device: _DeviceAttributes(/job:worker/replica:0/task:0/device:TPU:2, TPU, 0, 0)\n"
          ],
          "name": "stderr"
        },
        {
          "output_type": "stream",
          "text": [
            "INFO:tensorflow:*** Available Device: _DeviceAttributes(/job:worker/replica:0/task:0/device:TPU:3, TPU, 0, 0)\n"
          ],
          "name": "stdout"
        },
        {
          "output_type": "stream",
          "text": [
            "INFO:tensorflow:*** Available Device: _DeviceAttributes(/job:worker/replica:0/task:0/device:TPU:3, TPU, 0, 0)\n"
          ],
          "name": "stderr"
        },
        {
          "output_type": "stream",
          "text": [
            "INFO:tensorflow:*** Available Device: _DeviceAttributes(/job:worker/replica:0/task:0/device:TPU:4, TPU, 0, 0)\n"
          ],
          "name": "stdout"
        },
        {
          "output_type": "stream",
          "text": [
            "INFO:tensorflow:*** Available Device: _DeviceAttributes(/job:worker/replica:0/task:0/device:TPU:4, TPU, 0, 0)\n"
          ],
          "name": "stderr"
        },
        {
          "output_type": "stream",
          "text": [
            "INFO:tensorflow:*** Available Device: _DeviceAttributes(/job:worker/replica:0/task:0/device:TPU:5, TPU, 0, 0)\n"
          ],
          "name": "stdout"
        },
        {
          "output_type": "stream",
          "text": [
            "INFO:tensorflow:*** Available Device: _DeviceAttributes(/job:worker/replica:0/task:0/device:TPU:5, TPU, 0, 0)\n"
          ],
          "name": "stderr"
        },
        {
          "output_type": "stream",
          "text": [
            "INFO:tensorflow:*** Available Device: _DeviceAttributes(/job:worker/replica:0/task:0/device:TPU:6, TPU, 0, 0)\n"
          ],
          "name": "stdout"
        },
        {
          "output_type": "stream",
          "text": [
            "INFO:tensorflow:*** Available Device: _DeviceAttributes(/job:worker/replica:0/task:0/device:TPU:6, TPU, 0, 0)\n"
          ],
          "name": "stderr"
        },
        {
          "output_type": "stream",
          "text": [
            "INFO:tensorflow:*** Available Device: _DeviceAttributes(/job:worker/replica:0/task:0/device:TPU:7, TPU, 0, 0)\n"
          ],
          "name": "stdout"
        },
        {
          "output_type": "stream",
          "text": [
            "INFO:tensorflow:*** Available Device: _DeviceAttributes(/job:worker/replica:0/task:0/device:TPU:7, TPU, 0, 0)\n"
          ],
          "name": "stderr"
        },
        {
          "output_type": "stream",
          "text": [
            "INFO:tensorflow:*** Available Device: _DeviceAttributes(/job:worker/replica:0/task:0/device:TPU_SYSTEM:0, TPU_SYSTEM, 0, 0)\n"
          ],
          "name": "stdout"
        },
        {
          "output_type": "stream",
          "text": [
            "INFO:tensorflow:*** Available Device: _DeviceAttributes(/job:worker/replica:0/task:0/device:TPU_SYSTEM:0, TPU_SYSTEM, 0, 0)\n"
          ],
          "name": "stderr"
        },
        {
          "output_type": "stream",
          "text": [
            "INFO:tensorflow:*** Available Device: _DeviceAttributes(/job:worker/replica:0/task:0/device:XLA_CPU:0, XLA_CPU, 0, 0)\n"
          ],
          "name": "stdout"
        },
        {
          "output_type": "stream",
          "text": [
            "INFO:tensorflow:*** Available Device: _DeviceAttributes(/job:worker/replica:0/task:0/device:XLA_CPU:0, XLA_CPU, 0, 0)\n"
          ],
          "name": "stderr"
        }
      ]
    },
    {
      "cell_type": "code",
      "metadata": {
        "id": "YaF3QqmuwGfv"
      },
      "source": [
        "import pandas as pd\n",
        "import numpy as np"
      ],
      "id": "YaF3QqmuwGfv",
      "execution_count": null,
      "outputs": []
    },
    {
      "cell_type": "code",
      "metadata": {
        "colab": {
          "base_uri": "https://localhost:8080/"
        },
        "id": "wu6LUXP2_Bf1",
        "outputId": "09d1155f-7348-4a28-f5fa-b9eef9b31db1"
      },
      "source": [
        "from google.colab import drive\n",
        "drive.mount('/content/drive')"
      ],
      "id": "wu6LUXP2_Bf1",
      "execution_count": null,
      "outputs": [
        {
          "output_type": "stream",
          "text": [
            "Mounted at /content/drive\n"
          ],
          "name": "stdout"
        }
      ]
    },
    {
      "cell_type": "code",
      "metadata": {
        "id": "amazing-membership"
      },
      "source": [
        "data = pd.read_csv('/content/drive/MyDrive/Colab Notebooks/NMT/dataset.csv', encoding='utf-8')"
      ],
      "id": "amazing-membership",
      "execution_count": null,
      "outputs": []
    },
    {
      "cell_type": "code",
      "metadata": {
        "id": "inclusive-allowance",
        "colab": {
          "base_uri": "https://localhost:8080/",
          "height": 363
        },
        "outputId": "94a9abba-356c-4c9a-b7de-d5a790f7a2ab"
      },
      "source": [
        "data.head(10)"
      ],
      "id": "inclusive-allowance",
      "execution_count": null,
      "outputs": [
        {
          "output_type": "execute_result",
          "data": {
            "text/html": [
              "<div>\n",
              "<style scoped>\n",
              "    .dataframe tbody tr th:only-of-type {\n",
              "        vertical-align: middle;\n",
              "    }\n",
              "\n",
              "    .dataframe tbody tr th {\n",
              "        vertical-align: top;\n",
              "    }\n",
              "\n",
              "    .dataframe thead th {\n",
              "        text-align: right;\n",
              "    }\n",
              "</style>\n",
              "<table border=\"1\" class=\"dataframe\">\n",
              "  <thead>\n",
              "    <tr style=\"text-align: right;\">\n",
              "      <th></th>\n",
              "      <th>english_sentence</th>\n",
              "      <th>hindi_sentence</th>\n",
              "    </tr>\n",
              "  </thead>\n",
              "  <tbody>\n",
              "    <tr>\n",
              "      <th>0</th>\n",
              "      <td>dwarka is also a dhaam among the chaar dhaams</td>\n",
              "      <td>द्वारका चार धामों में एक धाम भी है</td>\n",
              "    </tr>\n",
              "    <tr>\n",
              "      <th>1</th>\n",
              "      <td>lord krishna had specially settled this amidst...</td>\n",
              "      <td>भगवान कृष्ण ने इसे समुद्र के बीच में विशेष रूप...</td>\n",
              "    </tr>\n",
              "    <tr>\n",
              "      <th>2</th>\n",
              "      <td>situated on the western railway s surendranaga...</td>\n",
              "      <td>पश्चिम रेलवे की सुरेंद्रनगरओखा पोर्ट लाइन पर स...</td>\n",
              "    </tr>\n",
              "    <tr>\n",
              "      <th>3</th>\n",
              "      <td>this holy city is mathura the avatar land of l...</td>\n",
              "      <td>यमुना तट पर भगवान श्रीकृष्ण की अवतार भूमि का य...</td>\n",
              "    </tr>\n",
              "    <tr>\n",
              "      <th>4</th>\n",
              "      <td>mathura station is on the northeastern railway...</td>\n",
              "      <td>पूर्वोत्तर रेलवे की आगरा फोर्ट से गोरखपुर जाने...</td>\n",
              "    </tr>\n",
              "    <tr>\n",
              "      <th>5</th>\n",
              "      <td>garhmukteshwar is a sacred pilgrimage of the h...</td>\n",
              "      <td>गढ़मुक्तेश्वर हिंदुओं का पावन तीर्थ है</td>\n",
              "    </tr>\n",
              "    <tr>\n",
              "      <th>6</th>\n",
              "      <td>let us go to the ganges fair of garh mukteshwar</td>\n",
              "      <td>चलें गढ़ मुक्तेश्वर का गंगा मेला</td>\n",
              "    </tr>\n",
              "    <tr>\n",
              "      <th>7</th>\n",
              "      <td>the history of north india s famous and ancien...</td>\n",
              "      <td>गाजियाबाद जिले के गढ़ मुक्तेश्वर में पतित पावन...</td>\n",
              "    </tr>\n",
              "    <tr>\n",
              "      <th>8</th>\n",
              "      <td>there is full fervor of the fair this time als...</td>\n",
              "      <td>इस बार भी गढ़ मुक्तेश्वर में मेले की भरपूर गहम...</td>\n",
              "    </tr>\n",
              "    <tr>\n",
              "      <th>9</th>\n",
              "      <td>the holy dip is on november</td>\n",
              "      <td>मुख्य स्नान नवंबर को है</td>\n",
              "    </tr>\n",
              "  </tbody>\n",
              "</table>\n",
              "</div>"
            ],
            "text/plain": [
              "                                    english_sentence                                     hindi_sentence\n",
              "0      dwarka is also a dhaam among the chaar dhaams                 द्वारका चार धामों में एक धाम भी है\n",
              "1  lord krishna had specially settled this amidst...  भगवान कृष्ण ने इसे समुद्र के बीच में विशेष रूप...\n",
              "2  situated on the western railway s surendranaga...  पश्चिम रेलवे की सुरेंद्रनगरओखा पोर्ट लाइन पर स...\n",
              "3  this holy city is mathura the avatar land of l...  यमुना तट पर भगवान श्रीकृष्ण की अवतार भूमि का य...\n",
              "4  mathura station is on the northeastern railway...  पूर्वोत्तर रेलवे की आगरा फोर्ट से गोरखपुर जाने...\n",
              "5  garhmukteshwar is a sacred pilgrimage of the h...             गढ़मुक्तेश्वर हिंदुओं का पावन तीर्थ है\n",
              "6    let us go to the ganges fair of garh mukteshwar                   चलें गढ़ मुक्तेश्वर का गंगा मेला\n",
              "7  the history of north india s famous and ancien...  गाजियाबाद जिले के गढ़ मुक्तेश्वर में पतित पावन...\n",
              "8  there is full fervor of the fair this time als...  इस बार भी गढ़ मुक्तेश्वर में मेले की भरपूर गहम...\n",
              "9                        the holy dip is on november                            मुख्य स्नान नवंबर को है"
            ]
          },
          "metadata": {
            "tags": []
          },
          "execution_count": 5
        }
      ]
    },
    {
      "cell_type": "code",
      "metadata": {
        "colab": {
          "base_uri": "https://localhost:8080/",
          "height": 175
        },
        "id": "intense-advocate",
        "outputId": "67dc5e08-a20c-40d8-a59f-30604b5bc8a3"
      },
      "source": [
        "data.describe()"
      ],
      "id": "intense-advocate",
      "execution_count": null,
      "outputs": [
        {
          "output_type": "execute_result",
          "data": {
            "text/html": [
              "<div>\n",
              "<style scoped>\n",
              "    .dataframe tbody tr th:only-of-type {\n",
              "        vertical-align: middle;\n",
              "    }\n",
              "\n",
              "    .dataframe tbody tr th {\n",
              "        vertical-align: top;\n",
              "    }\n",
              "\n",
              "    .dataframe thead th {\n",
              "        text-align: right;\n",
              "    }\n",
              "</style>\n",
              "<table border=\"1\" class=\"dataframe\">\n",
              "  <thead>\n",
              "    <tr style=\"text-align: right;\">\n",
              "      <th></th>\n",
              "      <th>english_sentence</th>\n",
              "      <th>hindi_sentence</th>\n",
              "    </tr>\n",
              "  </thead>\n",
              "  <tbody>\n",
              "    <tr>\n",
              "      <th>count</th>\n",
              "      <td>230131</td>\n",
              "      <td>230132</td>\n",
              "    </tr>\n",
              "    <tr>\n",
              "      <th>unique</th>\n",
              "      <td>224899</td>\n",
              "      <td>224816</td>\n",
              "    </tr>\n",
              "    <tr>\n",
              "      <th>top</th>\n",
              "      <td>there is difficulty in breathing</td>\n",
              "      <td>वण्डिप्पेरियार प्रकृति समृद्ध प्रदेश है</td>\n",
              "    </tr>\n",
              "    <tr>\n",
              "      <th>freq</th>\n",
              "      <td>7</td>\n",
              "      <td>4</td>\n",
              "    </tr>\n",
              "  </tbody>\n",
              "</table>\n",
              "</div>"
            ],
            "text/plain": [
              "                        english_sentence                           hindi_sentence\n",
              "count                             230131                                   230132\n",
              "unique                            224899                                   224816\n",
              "top     there is difficulty in breathing  वण्डिप्पेरियार प्रकृति समृद्ध प्रदेश है\n",
              "freq                                   7                                        4"
            ]
          },
          "metadata": {
            "tags": []
          },
          "execution_count": 6
        }
      ]
    },
    {
      "cell_type": "code",
      "metadata": {
        "scrolled": true,
        "colab": {
          "base_uri": "https://localhost:8080/"
        },
        "id": "departmental-rhythm",
        "outputId": "aea2d50a-ca9d-4254-e321-3ba4a334798d"
      },
      "source": [
        "data.info()"
      ],
      "id": "departmental-rhythm",
      "execution_count": null,
      "outputs": [
        {
          "output_type": "stream",
          "text": [
            "<class 'pandas.core.frame.DataFrame'>\n",
            "RangeIndex: 230132 entries, 0 to 230131\n",
            "Data columns (total 2 columns):\n",
            " #   Column            Non-Null Count   Dtype \n",
            "---  ------            --------------   ----- \n",
            " 0   english_sentence  230131 non-null  object\n",
            " 1   hindi_sentence    230132 non-null  object\n",
            "dtypes: object(2)\n",
            "memory usage: 3.5+ MB\n"
          ],
          "name": "stdout"
        }
      ]
    },
    {
      "cell_type": "code",
      "metadata": {
        "colab": {
          "base_uri": "https://localhost:8080/"
        },
        "id": "precious-circular",
        "outputId": "5379d197-9717-40f7-a174-41467c9cc629"
      },
      "source": [
        "data.isnull().sum()"
      ],
      "id": "precious-circular",
      "execution_count": null,
      "outputs": [
        {
          "output_type": "execute_result",
          "data": {
            "text/plain": [
              "english_sentence    1\n",
              "hindi_sentence      0\n",
              "dtype: int64"
            ]
          },
          "metadata": {
            "tags": []
          },
          "execution_count": 8
        }
      ]
    },
    {
      "cell_type": "code",
      "metadata": {
        "colab": {
          "base_uri": "https://localhost:8080/"
        },
        "id": "jljtUictxBu8",
        "outputId": "80055663-bc94-47bc-85e7-66f629095ef0"
      },
      "source": [
        "data[data['english_sentence'].isnull()], data[data['hindi_sentence'].isnull()]"
      ],
      "id": "jljtUictxBu8",
      "execution_count": null,
      "outputs": [
        {
          "output_type": "execute_result",
          "data": {
            "text/plain": [
              "(       english_sentence hindi_sentence\n",
              " 129276              NaN      लागू नहीं, Empty DataFrame\n",
              " Columns: [english_sentence, hindi_sentence]\n",
              " Index: [])"
            ]
          },
          "metadata": {
            "tags": []
          },
          "execution_count": 9
        }
      ]
    },
    {
      "cell_type": "code",
      "metadata": {
        "colab": {
          "base_uri": "https://localhost:8080/"
        },
        "id": "owned-tongue",
        "outputId": "4dcf847a-ab1b-4496-d902-11743a0be8c0"
      },
      "source": [
        "data = data.dropna()\n",
        "data.isnull().sum()"
      ],
      "id": "owned-tongue",
      "execution_count": null,
      "outputs": [
        {
          "output_type": "execute_result",
          "data": {
            "text/plain": [
              "english_sentence    0\n",
              "hindi_sentence      0\n",
              "dtype: int64"
            ]
          },
          "metadata": {
            "tags": []
          },
          "execution_count": 10
        }
      ]
    },
    {
      "cell_type": "code",
      "metadata": {
        "id": "F3MCC9_uzKNr"
      },
      "source": [
        "data = data.drop_duplicates(subset='english_sentence')\n",
        "data = data.drop_duplicates(subset='hindi_sentence')"
      ],
      "id": "F3MCC9_uzKNr",
      "execution_count": null,
      "outputs": []
    },
    {
      "cell_type": "code",
      "metadata": {
        "colab": {
          "base_uri": "https://localhost:8080/",
          "height": 175
        },
        "id": "w6i1rM4f4Jjq",
        "outputId": "4fb7d68b-669c-4dfc-c4e2-caa8e319a645"
      },
      "source": [
        "data.describe()"
      ],
      "id": "w6i1rM4f4Jjq",
      "execution_count": null,
      "outputs": [
        {
          "output_type": "execute_result",
          "data": {
            "text/html": [
              "<div>\n",
              "<style scoped>\n",
              "    .dataframe tbody tr th:only-of-type {\n",
              "        vertical-align: middle;\n",
              "    }\n",
              "\n",
              "    .dataframe tbody tr th {\n",
              "        vertical-align: top;\n",
              "    }\n",
              "\n",
              "    .dataframe thead th {\n",
              "        text-align: right;\n",
              "    }\n",
              "</style>\n",
              "<table border=\"1\" class=\"dataframe\">\n",
              "  <thead>\n",
              "    <tr style=\"text-align: right;\">\n",
              "      <th></th>\n",
              "      <th>english_sentence</th>\n",
              "      <th>hindi_sentence</th>\n",
              "    </tr>\n",
              "  </thead>\n",
              "  <tbody>\n",
              "    <tr>\n",
              "      <th>count</th>\n",
              "      <td>224640</td>\n",
              "      <td>224640</td>\n",
              "    </tr>\n",
              "    <tr>\n",
              "      <th>unique</th>\n",
              "      <td>224640</td>\n",
              "      <td>224640</td>\n",
              "    </tr>\n",
              "    <tr>\n",
              "      <th>top</th>\n",
              "      <td>He asserted that today's India is a New India ...</td>\n",
              "      <td>रेलवे बोर्ड ने निर्णय किया कि पहले से स्वीकृत ...</td>\n",
              "    </tr>\n",
              "    <tr>\n",
              "      <th>freq</th>\n",
              "      <td>1</td>\n",
              "      <td>1</td>\n",
              "    </tr>\n",
              "  </tbody>\n",
              "</table>\n",
              "</div>"
            ],
            "text/plain": [
              "                                         english_sentence                                     hindi_sentence\n",
              "count                                              224640                                             224640\n",
              "unique                                             224640                                             224640\n",
              "top     He asserted that today's India is a New India ...  रेलवे बोर्ड ने निर्णय किया कि पहले से स्वीकृत ...\n",
              "freq                                                    1                                                  1"
            ]
          },
          "metadata": {
            "tags": []
          },
          "execution_count": 12
        }
      ]
    },
    {
      "cell_type": "code",
      "metadata": {
        "id": "-epqc1EKtJ3n"
      },
      "source": [
        "#data = data.iloc[:100000]"
      ],
      "id": "-epqc1EKtJ3n",
      "execution_count": null,
      "outputs": []
    },
    {
      "cell_type": "code",
      "metadata": {
        "id": "julian-scanning"
      },
      "source": [
        "data.english_sentence = data.english_sentence.apply(lambda x : x.lower())"
      ],
      "id": "julian-scanning",
      "execution_count": null,
      "outputs": []
    },
    {
      "cell_type": "code",
      "metadata": {
        "id": "earlier-booth"
      },
      "source": [
        "import re\n",
        "data.english_sentence = data.english_sentence.apply(lambda x: re.sub(\"'\", '', x))\n",
        "data.english_sentence = data.english_sentence.apply(lambda x: re.sub('\"', '', x))\n",
        "data.hindi_sentence = data.hindi_sentence.apply(lambda x: re.sub(\"'\", '', x))\n",
        "data.hindi_sentence = data.hindi_sentence.apply(lambda x: re.sub('\"', '', x))"
      ],
      "id": "earlier-booth",
      "execution_count": null,
      "outputs": []
    },
    {
      "cell_type": "code",
      "metadata": {
        "id": "logical-static"
      },
      "source": [
        "import string\n",
        "special_characters = set(string.punctuation)\n",
        "data.english_sentence = data.english_sentence.apply(lambda x: ''.join(char for char in x if char not in special_characters))\n",
        "data.hindi_sentence = data.hindi_sentence.apply(lambda x: ''.join(char for char in x if char not in special_characters))"
      ],
      "id": "logical-static",
      "execution_count": null,
      "outputs": []
    },
    {
      "cell_type": "code",
      "metadata": {
        "id": "dangerous-consultation"
      },
      "source": [
        "num_digits= str.maketrans('','', string.digits)\n",
        "data.english_sentence = data.english_sentence.apply(lambda x: x.translate(num_digits))\n",
        "data.hindi_sentence = data.hindi_sentence.apply(lambda x: x.translate(str.maketrans('', '', string.ascii_letters + string.digits + string.punctuation + '०१२३४५६७८९')))"
      ],
      "id": "dangerous-consultation",
      "execution_count": null,
      "outputs": []
    },
    {
      "cell_type": "code",
      "metadata": {
        "id": "designed-cream"
      },
      "source": [
        "data.english_sentence = data.english_sentence.apply(lambda x: x.strip())\n",
        "data.hindi_sentence = data.hindi_sentence.apply(lambda x: x.strip())"
      ],
      "id": "designed-cream",
      "execution_count": null,
      "outputs": []
    },
    {
      "cell_type": "code",
      "metadata": {
        "id": "AfJ11pluNJDF"
      },
      "source": [
        "data = data[(data.hindi_sentence.apply(lambda x : 0<len(x.split())<=15)) & (data.english_sentence.apply(lambda x : 0<len(x.split())<=15))]"
      ],
      "id": "AfJ11pluNJDF",
      "execution_count": null,
      "outputs": []
    },
    {
      "cell_type": "code",
      "metadata": {
        "id": "shaped-fruit"
      },
      "source": [
        "data['hindi_sentence_util'] = data.hindi_sentence\n",
        "data.hindi_sentence = data.hindi_sentence.apply(lambda x : 'START ' + x + ' END')\n"
      ],
      "id": "shaped-fruit",
      "execution_count": null,
      "outputs": []
    },
    {
      "cell_type": "code",
      "metadata": {
        "id": "wDEwt5zMiwA3"
      },
      "source": [
        "data = data.drop_duplicates(subset='english_sentence')\n",
        "data = data.drop_duplicates(subset='hindi_sentence')\n",
        "data = data.drop_duplicates(subset='hindi_sentence_util')"
      ],
      "id": "wDEwt5zMiwA3",
      "execution_count": null,
      "outputs": []
    },
    {
      "cell_type": "code",
      "metadata": {
        "colab": {
          "base_uri": "https://localhost:8080/",
          "height": 175
        },
        "id": "earned-vanilla",
        "outputId": "8e41bfe6-8549-466a-f88f-1ae450f8b733"
      },
      "source": [
        "data.describe()"
      ],
      "id": "earned-vanilla",
      "execution_count": null,
      "outputs": [
        {
          "output_type": "execute_result",
          "data": {
            "text/html": [
              "<div>\n",
              "<style scoped>\n",
              "    .dataframe tbody tr th:only-of-type {\n",
              "        vertical-align: middle;\n",
              "    }\n",
              "\n",
              "    .dataframe tbody tr th {\n",
              "        vertical-align: top;\n",
              "    }\n",
              "\n",
              "    .dataframe thead th {\n",
              "        text-align: right;\n",
              "    }\n",
              "</style>\n",
              "<table border=\"1\" class=\"dataframe\">\n",
              "  <thead>\n",
              "    <tr style=\"text-align: right;\">\n",
              "      <th></th>\n",
              "      <th>english_sentence</th>\n",
              "      <th>hindi_sentence</th>\n",
              "      <th>hindi_sentence_util</th>\n",
              "    </tr>\n",
              "  </thead>\n",
              "  <tbody>\n",
              "    <tr>\n",
              "      <th>count</th>\n",
              "      <td>69201</td>\n",
              "      <td>69201</td>\n",
              "      <td>69201</td>\n",
              "    </tr>\n",
              "    <tr>\n",
              "      <th>unique</th>\n",
              "      <td>69201</td>\n",
              "      <td>69201</td>\n",
              "      <td>69201</td>\n",
              "    </tr>\n",
              "    <tr>\n",
              "      <th>top</th>\n",
              "      <td>niti aayog to release the second edition of he...</td>\n",
              "      <td>START यूरिक एसिड के क्रिस्टल सुइयों की भाँति त...</td>\n",
              "      <td>माँ का दूध बच्चे को रोगों से बचाता है</td>\n",
              "    </tr>\n",
              "    <tr>\n",
              "      <th>freq</th>\n",
              "      <td>1</td>\n",
              "      <td>1</td>\n",
              "      <td>1</td>\n",
              "    </tr>\n",
              "  </tbody>\n",
              "</table>\n",
              "</div>"
            ],
            "text/plain": [
              "                                         english_sentence  ...                    hindi_sentence_util\n",
              "count                                               69201  ...                                  69201\n",
              "unique                                              69201  ...                                  69201\n",
              "top     niti aayog to release the second edition of he...  ...  माँ का दूध बच्चे को रोगों से बचाता है\n",
              "freq                                                    1  ...                                      1\n",
              "\n",
              "[4 rows x 3 columns]"
            ]
          },
          "metadata": {
            "tags": []
          },
          "execution_count": 22
        }
      ]
    },
    {
      "cell_type": "code",
      "metadata": {
        "colab": {
          "base_uri": "https://localhost:8080/"
        },
        "id": "Mr7i5R1mVXW5",
        "outputId": "14e62d16-66bb-4913-897d-d1cd43881fd0"
      },
      "source": [
        "data.info()"
      ],
      "id": "Mr7i5R1mVXW5",
      "execution_count": null,
      "outputs": [
        {
          "output_type": "stream",
          "text": [
            "<class 'pandas.core.frame.DataFrame'>\n",
            "Int64Index: 69201 entries, 0 to 230130\n",
            "Data columns (total 3 columns):\n",
            " #   Column               Non-Null Count  Dtype \n",
            "---  ------               --------------  ----- \n",
            " 0   english_sentence     69201 non-null  object\n",
            " 1   hindi_sentence       69201 non-null  object\n",
            " 2   hindi_sentence_util  69201 non-null  object\n",
            "dtypes: object(3)\n",
            "memory usage: 2.1+ MB\n"
          ],
          "name": "stdout"
        }
      ]
    },
    {
      "cell_type": "code",
      "metadata": {
        "colab": {
          "base_uri": "https://localhost:8080/"
        },
        "id": "LGIZQruAB8uU",
        "outputId": "403cddd1-9e4d-41a7-9012-82369cdce80c"
      },
      "source": [
        "data.isnull().sum()"
      ],
      "id": "LGIZQruAB8uU",
      "execution_count": null,
      "outputs": [
        {
          "output_type": "execute_result",
          "data": {
            "text/plain": [
              "english_sentence       0\n",
              "hindi_sentence         0\n",
              "hindi_sentence_util    0\n",
              "dtype: int64"
            ]
          },
          "metadata": {
            "tags": []
          },
          "execution_count": 24
        }
      ]
    },
    {
      "cell_type": "code",
      "metadata": {
        "colab": {
          "base_uri": "https://localhost:8080/",
          "height": 424
        },
        "id": "XNgVsyGjCzCr",
        "outputId": "f322ef2d-486c-48d3-f7a1-c6a9c4b84ec8"
      },
      "source": [
        "data"
      ],
      "id": "XNgVsyGjCzCr",
      "execution_count": null,
      "outputs": [
        {
          "output_type": "execute_result",
          "data": {
            "text/html": [
              "<div>\n",
              "<style scoped>\n",
              "    .dataframe tbody tr th:only-of-type {\n",
              "        vertical-align: middle;\n",
              "    }\n",
              "\n",
              "    .dataframe tbody tr th {\n",
              "        vertical-align: top;\n",
              "    }\n",
              "\n",
              "    .dataframe thead th {\n",
              "        text-align: right;\n",
              "    }\n",
              "</style>\n",
              "<table border=\"1\" class=\"dataframe\">\n",
              "  <thead>\n",
              "    <tr style=\"text-align: right;\">\n",
              "      <th></th>\n",
              "      <th>english_sentence</th>\n",
              "      <th>hindi_sentence</th>\n",
              "      <th>hindi_sentence_util</th>\n",
              "    </tr>\n",
              "  </thead>\n",
              "  <tbody>\n",
              "    <tr>\n",
              "      <th>0</th>\n",
              "      <td>dwarka is also a dhaam among the chaar dhaams</td>\n",
              "      <td>START द्वारका चार धामों में एक धाम भी है END</td>\n",
              "      <td>द्वारका चार धामों में एक धाम भी है</td>\n",
              "    </tr>\n",
              "    <tr>\n",
              "      <th>1</th>\n",
              "      <td>lord krishna had specially settled this amidst...</td>\n",
              "      <td>START भगवान कृष्ण ने इसे समुद्र के बीच में विश...</td>\n",
              "      <td>भगवान कृष्ण ने इसे समुद्र के बीच में विशेष रूप...</td>\n",
              "    </tr>\n",
              "    <tr>\n",
              "      <th>2</th>\n",
              "      <td>situated on the western railway s surendranaga...</td>\n",
              "      <td>START पश्चिम रेलवे की सुरेंद्रनगरओखा पोर्ट लाइ...</td>\n",
              "      <td>पश्चिम रेलवे की सुरेंद्रनगरओखा पोर्ट लाइन पर स...</td>\n",
              "    </tr>\n",
              "    <tr>\n",
              "      <th>5</th>\n",
              "      <td>garhmukteshwar is a sacred pilgrimage of the h...</td>\n",
              "      <td>START गढ़मुक्तेश्वर हिंदुओं का पावन तीर्थ है END</td>\n",
              "      <td>गढ़मुक्तेश्वर हिंदुओं का पावन तीर्थ है</td>\n",
              "    </tr>\n",
              "    <tr>\n",
              "      <th>6</th>\n",
              "      <td>let us go to the ganges fair of garh mukteshwar</td>\n",
              "      <td>START चलें गढ़ मुक्तेश्वर का गंगा मेला END</td>\n",
              "      <td>चलें गढ़ मुक्तेश्वर का गंगा मेला</td>\n",
              "    </tr>\n",
              "    <tr>\n",
              "      <th>...</th>\n",
              "      <td>...</td>\n",
              "      <td>...</td>\n",
              "      <td>...</td>\n",
              "    </tr>\n",
              "    <tr>\n",
              "      <th>230109</th>\n",
              "      <td>satyaprakash upadhyay</td>\n",
              "      <td>START सत्यप्रकाश उपाध्याय END</td>\n",
              "      <td>सत्यप्रकाश उपाध्याय</td>\n",
              "    </tr>\n",
              "    <tr>\n",
              "      <th>230111</th>\n",
              "      <td>hes in jail he has revealed some astonishing f...</td>\n",
              "      <td>START अभी जेल में बंद है उसने एक चौकाने वाला ख...</td>\n",
              "      <td>अभी जेल में बंद है उसने एक चौकाने वाला खुलासा ...</td>\n",
              "    </tr>\n",
              "    <tr>\n",
              "      <th>230117</th>\n",
              "      <td>one country one election</td>\n",
              "      <td>START एक देश एक चुनाव END</td>\n",
              "      <td>एक देश एक चुनाव</td>\n",
              "    </tr>\n",
              "    <tr>\n",
              "      <th>230128</th>\n",
              "      <td>web wonder women is the third leg of the women...</td>\n",
              "      <td>START वेब वंडर वुमेन मंत्रालय का महिला अचीवरों...</td>\n",
              "      <td>वेब वंडर वुमेन मंत्रालय का महिला अचीवरों का ती...</td>\n",
              "    </tr>\n",
              "    <tr>\n",
              "      <th>230130</th>\n",
              "      <td>exchanges between japan air self defence force...</td>\n",
              "      <td>START जापान वायु स्व रक्षा बल और भारतीय वायु स...</td>\n",
              "      <td>जापान वायु स्व रक्षा बल और भारतीय वायु सेना के...</td>\n",
              "    </tr>\n",
              "  </tbody>\n",
              "</table>\n",
              "<p>69201 rows × 3 columns</p>\n",
              "</div>"
            ],
            "text/plain": [
              "                                         english_sentence  ...                                hindi_sentence_util\n",
              "0           dwarka is also a dhaam among the chaar dhaams  ...                 द्वारका चार धामों में एक धाम भी है\n",
              "1       lord krishna had specially settled this amidst...  ...  भगवान कृष्ण ने इसे समुद्र के बीच में विशेष रूप...\n",
              "2       situated on the western railway s surendranaga...  ...  पश्चिम रेलवे की सुरेंद्रनगरओखा पोर्ट लाइन पर स...\n",
              "5       garhmukteshwar is a sacred pilgrimage of the h...  ...             गढ़मुक्तेश्वर हिंदुओं का पावन तीर्थ है\n",
              "6         let us go to the ganges fair of garh mukteshwar  ...                   चलें गढ़ मुक्तेश्वर का गंगा मेला\n",
              "...                                                   ...  ...                                                ...\n",
              "230109                              satyaprakash upadhyay  ...                                सत्यप्रकाश उपाध्याय\n",
              "230111  hes in jail he has revealed some astonishing f...  ...  अभी जेल में बंद है उसने एक चौकाने वाला खुलासा ...\n",
              "230117                           one country one election  ...                                    एक देश एक चुनाव\n",
              "230128  web wonder women is the third leg of the women...  ...  वेब वंडर वुमेन मंत्रालय का महिला अचीवरों का ती...\n",
              "230130  exchanges between japan air self defence force...  ...  जापान वायु स्व रक्षा बल और भारतीय वायु सेना के...\n",
              "\n",
              "[69201 rows x 3 columns]"
            ]
          },
          "metadata": {
            "tags": []
          },
          "execution_count": 25
        }
      ]
    },
    {
      "cell_type": "code",
      "metadata": {
        "colab": {
          "base_uri": "https://localhost:8080/"
        },
        "id": "medical-sense",
        "outputId": "a451dbd4-23aa-4111-ea1c-2372c834d04d"
      },
      "source": [
        "eng_word_vocab = set()\n",
        "eng_sent_len = []\n",
        "for sent in data.english_sentence:\n",
        "    eng_sent_len.append(len(sent.split()))\n",
        "    for word in sent.split():\n",
        "        if word not in eng_word_vocab:\n",
        "            eng_word_vocab.add(word)\n",
        "hin_word_vocab = set()\n",
        "hin_sent_len = []\n",
        "for sent in data.hindi_sentence:\n",
        "    hin_sent_len.append(len(sent.split()))\n",
        "    for word in sent.split():\n",
        "        if word not in hin_word_vocab:\n",
        "            hin_word_vocab.add(word)\n",
        "eng_word_vocab = sorted(eng_word_vocab)\n",
        "hin_word_vocab = sorted(hin_word_vocab)\n",
        "print('max sent len in eng : ', max(eng_sent_len))\n",
        "print('max sent len in hin : ', max(hin_sent_len))"
      ],
      "id": "medical-sense",
      "execution_count": null,
      "outputs": [
        {
          "output_type": "stream",
          "text": [
            "max sent len in eng :  15\n",
            "max sent len in hin :  17\n"
          ],
          "name": "stdout"
        }
      ]
    },
    {
      "cell_type": "code",
      "metadata": {
        "colab": {
          "base_uri": "https://localhost:8080/"
        },
        "id": "tracked-newfoundland",
        "outputId": "d69076a8-2ad0-4970-e87b-ddf40096b490"
      },
      "source": [
        "len(eng_word_vocab), len(hin_word_vocab)"
      ],
      "id": "tracked-newfoundland",
      "execution_count": null,
      "outputs": [
        {
          "output_type": "execute_result",
          "data": {
            "text/plain": [
              "(33894, 40096)"
            ]
          },
          "metadata": {
            "tags": []
          },
          "execution_count": 27
        }
      ]
    },
    {
      "cell_type": "code",
      "metadata": {
        "colab": {
          "base_uri": "https://localhost:8080/",
          "height": 36
        },
        "id": "JFOUMBbkCrXa",
        "outputId": "e1242cf0-0337-40c9-e4fa-8615d38d03e8"
      },
      "source": [
        "hin_word_vocab[3100]"
      ],
      "id": "JFOUMBbkCrXa",
      "execution_count": null,
      "outputs": [
        {
          "output_type": "execute_result",
          "data": {
            "application/vnd.google.colaboratory.intrinsic+json": {
              "type": "string"
            },
            "text/plain": [
              "'आशाएंआकांक्षाएं'"
            ]
          },
          "metadata": {
            "tags": []
          },
          "execution_count": 28
        }
      ]
    },
    {
      "cell_type": "code",
      "metadata": {
        "id": "DcILCquipF0Z"
      },
      "source": [
        ""
      ],
      "id": "DcILCquipF0Z",
      "execution_count": null,
      "outputs": []
    },
    {
      "cell_type": "code",
      "metadata": {
        "id": "successful-auckland"
      },
      "source": [
        "from tensorflow.keras.preprocessing.text import Tokenizer"
      ],
      "id": "successful-auckland",
      "execution_count": null,
      "outputs": []
    },
    {
      "cell_type": "code",
      "metadata": {
        "id": "rocky-bread"
      },
      "source": [
        "tokenizer_eng = Tokenizer()\n",
        "tokenizer_hin = Tokenizer()\n",
        "tokenizer_eng.fit_on_texts(eng_word_vocab)\n",
        "tokenizer_hin.fit_on_texts(hin_word_vocab)\n",
        "sequence_eng = tokenizer_eng.texts_to_sequences(data.english_sentence)\n",
        "sequence_hin = tokenizer_hin.texts_to_sequences(data.hindi_sentence_util)\n"
      ],
      "id": "rocky-bread",
      "execution_count": null,
      "outputs": []
    },
    {
      "cell_type": "code",
      "metadata": {
        "colab": {
          "base_uri": "https://localhost:8080/"
        },
        "id": "outdoor-discharge",
        "outputId": "4a047305-16be-471f-e900-92619dd8f942"
      },
      "source": [
        "len(tokenizer_eng.word_index), len(tokenizer_hin.word_index)"
      ],
      "id": "outdoor-discharge",
      "execution_count": null,
      "outputs": [
        {
          "output_type": "execute_result",
          "data": {
            "text/plain": [
              "(33894, 40096)"
            ]
          },
          "metadata": {
            "tags": []
          },
          "execution_count": 31
        }
      ]
    },
    {
      "cell_type": "code",
      "metadata": {
        "colab": {
          "base_uri": "https://localhost:8080/"
        },
        "id": "zMQW-i43oXNf",
        "outputId": "e853bf0c-e124-4796-8056-3ba10103e577"
      },
      "source": [
        "tokenizer_hin.word_index['start']"
      ],
      "id": "zMQW-i43oXNf",
      "execution_count": 74,
      "outputs": [
        {
          "output_type": "execute_result",
          "data": {
            "text/plain": [
              "2"
            ]
          },
          "metadata": {
            "tags": []
          },
          "execution_count": 74
        }
      ]
    },
    {
      "cell_type": "code",
      "metadata": {
        "id": "sweet-bumper"
      },
      "source": [
        "from tensorflow.keras.preprocessing.sequence import pad_sequences"
      ],
      "id": "sweet-bumper",
      "execution_count": null,
      "outputs": []
    },
    {
      "cell_type": "code",
      "metadata": {
        "id": "diverse-classic"
      },
      "source": [
        "padded_eng = pad_sequences(sequence_eng, padding='post', maxlen=max(eng_sent_len))\n",
        "padded_hin = pad_sequences(sequence_hin, padding='post', maxlen=max(hin_sent_len)-2)"
      ],
      "id": "diverse-classic",
      "execution_count": null,
      "outputs": []
    },
    {
      "cell_type": "code",
      "metadata": {
        "colab": {
          "base_uri": "https://localhost:8080/"
        },
        "id": "MoWVBEwsFH2X",
        "outputId": "ee3f3618-0981-405f-ae82-10c8fd665527"
      },
      "source": [
        "padded_hin, padded_hin.shape"
      ],
      "id": "MoWVBEwsFH2X",
      "execution_count": null,
      "outputs": [
        {
          "output_type": "execute_result",
          "data": {
            "text/plain": [
              "(array([[18093, 12108, 18263, ...,     0,     0,     0],\n",
              "        [26244,  8764, 19599, ..., 16876,     0,     0],\n",
              "        [20702, 31082,  8454, ...,  7833, 38419, 39729],\n",
              "        ...,\n",
              "        [ 5078, 17942,  5078, ...,     0,     0,     0],\n",
              "        [33609, 32290, 33492, ...,     0,     0,     0],\n",
              "        [13615, 32686, 38758, ...,     0,     0,     0]], dtype=int32),\n",
              " (69201, 15))"
            ]
          },
          "metadata": {
            "tags": []
          },
          "execution_count": 35
        }
      ]
    },
    {
      "cell_type": "code",
      "metadata": {
        "id": "urEQ0DnoxL72"
      },
      "source": [
        "import numpy as np\n",
        "val_start = np.zeros((padded_hin.shape[0], 1), dtype=padded_hin.dtype)\n",
        "val_start[:,:] = 2\n",
        "val_end = np.zeros((padded_hin.shape[0], 1), dtype=padded_hin.dtype)\n",
        "val_end[:,:] = 1\n",
        "\n",
        "padded_hin_in = np.hstack((val_start, padded_hin)).astype(np.int32)\n",
        "padded_hin_out = np.hstack((padded_hin, val_end)).astype(np.int32)\n"
      ],
      "id": "urEQ0DnoxL72",
      "execution_count": null,
      "outputs": []
    },
    {
      "cell_type": "code",
      "metadata": {
        "id": "6wmRC6TQzpKN",
        "colab": {
          "base_uri": "https://localhost:8080/"
        },
        "outputId": "09866feb-a7c5-4ff6-f22a-c8a3ea2d43f5"
      },
      "source": [
        "padded_hin_in, padded_hin_out, padded_hin_in.shape"
      ],
      "id": "6wmRC6TQzpKN",
      "execution_count": null,
      "outputs": [
        {
          "output_type": "execute_result",
          "data": {
            "text/plain": [
              "(array([[    2, 18093, 12108, ...,     0,     0,     0],\n",
              "        [    2, 26244,  8764, ..., 16876,     0,     0],\n",
              "        [    2, 20702, 31082, ...,  7833, 38419, 39729],\n",
              "        ...,\n",
              "        [    2,  5078, 17942, ...,     0,     0,     0],\n",
              "        [    2, 33609, 32290, ...,     0,     0,     0],\n",
              "        [    2, 13615, 32686, ...,     0,     0,     0]], dtype=int32),\n",
              " array([[18093, 12108, 18263, ...,     0,     0,     1],\n",
              "        [26244,  8764, 19599, ...,     0,     0,     1],\n",
              "        [20702, 31082,  8454, ..., 38419, 39729,     1],\n",
              "        ...,\n",
              "        [ 5078, 17942,  5078, ...,     0,     0,     1],\n",
              "        [33609, 32290, 33492, ...,     0,     0,     1],\n",
              "        [13615, 32686, 38758, ...,     0,     0,     1]], dtype=int32),\n",
              " (69201, 16))"
            ]
          },
          "metadata": {
            "tags": []
          },
          "execution_count": 37
        }
      ]
    },
    {
      "cell_type": "code",
      "metadata": {
        "id": "PP4iwb4bPwZs",
        "colab": {
          "base_uri": "https://localhost:8080/"
        },
        "outputId": "73e5a372-c082-4cfe-b331-5a3b7026da2b"
      },
      "source": [
        "#checking for any nan values\n",
        "np.isnan(np.min(padded_eng)), np.isnan(np.min(padded_hin_in)), np.isnan(np.min(padded_hin_out))"
      ],
      "id": "PP4iwb4bPwZs",
      "execution_count": null,
      "outputs": [
        {
          "output_type": "execute_result",
          "data": {
            "text/plain": [
              "(False, False, False)"
            ]
          },
          "metadata": {
            "tags": []
          },
          "execution_count": 38
        }
      ]
    },
    {
      "cell_type": "code",
      "metadata": {
        "colab": {
          "base_uri": "https://localhost:8080/"
        },
        "id": "svaMzWRNJXZ-",
        "outputId": "19ad1eb2-406f-4b7c-9882-36d1858a3bb5"
      },
      "source": [
        "np.where(np.isnan(padded_hin_out))"
      ],
      "id": "svaMzWRNJXZ-",
      "execution_count": null,
      "outputs": [
        {
          "output_type": "execute_result",
          "data": {
            "text/plain": [
              "(array([], dtype=int64), array([], dtype=int64))"
            ]
          },
          "metadata": {
            "tags": []
          },
          "execution_count": 39
        }
      ]
    },
    {
      "cell_type": "code",
      "metadata": {
        "id": "butLOQ9rXmXI"
      },
      "source": [
        "#padded_eng[75522:,:],padded_hin_in[75522:,:],padded_hin_out[75522:,:]"
      ],
      "id": "butLOQ9rXmXI",
      "execution_count": null,
      "outputs": []
    },
    {
      "cell_type": "code",
      "metadata": {
        "id": "9wpwiWzLOX15"
      },
      "source": [
        "test_eng = np.zeros_like(padded_eng)\n",
        "test_hin_in = np.zeros_like(padded_hin_in)\n",
        "test_hin_out = np.zeros_like(padded_hin_out)"
      ],
      "id": "9wpwiWzLOX15",
      "execution_count": null,
      "outputs": []
    },
    {
      "cell_type": "markdown",
      "metadata": {
        "id": "helpful-latin"
      },
      "source": [
        "# MODEL CREATION"
      ],
      "id": "helpful-latin"
    },
    {
      "cell_type": "code",
      "metadata": {
        "id": "great-communication"
      },
      "source": [
        "from tensorflow.keras.layers import Input, Embedding, LSTM, Dense\n",
        "from tensorflow.keras.models import Model\n",
        "from tensorflow.keras.models import load_model\n"
      ],
      "id": "great-communication",
      "execution_count": null,
      "outputs": []
    },
    {
      "cell_type": "code",
      "metadata": {
        "id": "ceramic-sunset"
      },
      "source": [
        "def create_model():\n",
        "  # encoder\n",
        "  input_eng = Input(shape=(None,), name='eng_inp_tensor')\n",
        "  encoder_emb = Embedding(input_dim=len(tokenizer_eng.word_index)+1, output_dim=128, embeddings_initializer='random_normal')(input_eng)\n",
        "  enc_outputs, enc_state_h, enc_state_c = LSTM(64, return_state=True, kernel_initializer='random_normal')(encoder_emb) #output, hidden states of only last LSTM nodes are returned\n",
        "\n",
        "  #decoder\n",
        "  input_hin = Input(shape=(None,), name='hin_inp_tensor')\n",
        "  decoder_emb = Embedding(input_dim = len(tokenizer_hin.word_index)+1, output_dim=128, embeddings_initializer='random_normal')(input_hin)\n",
        "  dec_output, dec_state_h, dec_state_c = LSTM(64,return_sequences=True, return_state=True, kernel_initializer='random_normal')(decoder_emb, initial_state=[enc_state_h, enc_state_c]) #initial_state links decoder to encoder and output of all the LSTM nodes are returned, , hidden states of only last LSTM node is returned\n",
        "  dec_outputs = Dense(len(tokenizer_hin.word_index), activation='softmax', kernel_initializer='random_normal')(dec_output)\n",
        "  #Model\n",
        "  model = Model([input_eng, input_hin], dec_outputs)\n",
        "  return model"
      ],
      "id": "ceramic-sunset",
      "execution_count": null,
      "outputs": []
    },
    {
      "cell_type": "code",
      "metadata": {
        "id": "TjwRVlljdEq8"
      },
      "source": [
        ""
      ],
      "id": "TjwRVlljdEq8",
      "execution_count": null,
      "outputs": []
    },
    {
      "cell_type": "code",
      "metadata": {
        "id": "current-young"
      },
      "source": [
        "#model.summary()"
      ],
      "id": "current-young",
      "execution_count": null,
      "outputs": []
    },
    {
      "cell_type": "code",
      "metadata": {
        "id": "proper-queue",
        "colab": {
          "base_uri": "https://localhost:8080/",
          "height": 533
        },
        "outputId": "ee59846e-5f59-4817-9cec-3bed2a4e0110"
      },
      "source": [
        "# plotting the model\n",
        "# import os\n",
        "# os.environ[\"PATH\"] += os.pathsep + 'C:/Program Files/Graphviz/bin/'\n",
        "# from tensorflow.keras.utils import plot_model\n",
        "plot_model(model, to_file='model.png', show_shapes=True, show_dtype=True, show_layer_names=True,)"
      ],
      "id": "proper-queue",
      "execution_count": 75,
      "outputs": [
        {
          "output_type": "execute_result",
          "data": {
            "image/png": "[encoded data removed]",
            "text/plain": [
              "<IPython.core.display.Image object>"
            ]
          },
          "metadata": {
            "tags": []
          },
          "execution_count": 75
        }
      ]
    },
    {
      "cell_type": "markdown",
      "metadata": {
        "id": "handy-prefix"
      },
      "source": [
        "# Training"
      ],
      "id": "handy-prefix"
    },
    {
      "cell_type": "code",
      "metadata": {
        "id": "olympic-language"
      },
      "source": [
        "#model.compile(optimizer='adam', loss='sparse_categorical_crossentropy', metrics=['sparse_categorical_accuracy'])"
      ],
      "id": "olympic-language",
      "execution_count": null,
      "outputs": []
    },
    {
      "cell_type": "code",
      "metadata": {
        "id": "sNEnAXOCwmxH"
      },
      "source": [
        "# creating model inside TPU\n",
        "with strategy.scope():\n",
        "  # model = create_model()\n",
        "  # loss = tf.keras.losses.SparseCategoricalCrossentropy()\n",
        "  # opt = tf.keras.optimizers.Adam(learning_rate=0.001, clipvalue=1)\n",
        "  # model.compile(optimizer=opt, loss=loss, metrics=['accuracy'])\n",
        "\n",
        "  #load model if already trained\n",
        "  model = load_model('/content/drive/MyDrive/Colab Notebooks/NMT/nmt.h5') #no need to use compile as it is already compiled, if we want to change opt and loss then we can use compile and it will not affect pretrained weight.\n",
        "  # loss = tf.keras.losses.SparseCategoricalCrossentropy()\n",
        "  # opt = tf.keras.optimizers.Adam(learning_rate=0.01, beta_1=0.59, beta_2=0.8999, clipnorm=0.85)\n",
        "  # model.compile(optimizer=opt, loss=loss, metrics=['accuracy'])"
      ],
      "id": "sNEnAXOCwmxH",
      "execution_count": null,
      "outputs": []
    },
    {
      "cell_type": "code",
      "metadata": {
        "id": "obvious-earthquake",
        "colab": {
          "base_uri": "https://localhost:8080/"
        },
        "outputId": "97cc10be-b01d-4470-e065-fb5b428f73b2"
      },
      "source": [
        "history = model.fit(x=[padded_eng, padded_hin_in],\n",
        "          y=padded_hin_out,\n",
        "          batch_size=64,\n",
        "          epochs=5,\n",
        "          validation_split=0.3)"
      ],
      "id": "obvious-earthquake",
      "execution_count": null,
      "outputs": [
        {
          "output_type": "stream",
          "text": [
            "Epoch 1/5\n",
            "757/757 [==============================] - 36s 37ms/step - loss: 2.3399 - accuracy: 0.6023 - val_loss: 6.0322 - val_accuracy: 0.4755\n",
            "Epoch 2/5\n",
            "757/757 [==============================] - 20s 27ms/step - loss: 2.3408 - accuracy: 0.6022 - val_loss: 6.0988 - val_accuracy: 0.4757\n",
            "Epoch 3/5\n",
            "757/757 [==============================] - 20s 27ms/step - loss: 2.3386 - accuracy: 0.6026 - val_loss: 6.1055 - val_accuracy: 0.4763\n",
            "Epoch 4/5\n",
            "757/757 [==============================] - 20s 27ms/step - loss: 2.3401 - accuracy: 0.6023 - val_loss: 6.0986 - val_accuracy: 0.4704\n",
            "Epoch 5/5\n",
            "757/757 [==============================] - 20s 27ms/step - loss: 2.3371 - accuracy: 0.6029 - val_loss: 6.1644 - val_accuracy: 0.4768\n"
          ],
          "name": "stdout"
        }
      ]
    },
    {
      "cell_type": "code",
      "metadata": {
        "id": "wrVTNcVm5kCl",
        "colab": {
          "base_uri": "https://localhost:8080/",
          "height": 607
        },
        "outputId": "2caf4635-d6cc-40cd-861d-8fc989bdf632"
      },
      "source": [
        "import matplotlib.pyplot as plt\n",
        "fig, axis = plt.subplots(2,2)\n",
        "fig.set_size_inches(10,10)\n",
        "axis[0,0].plot(history.history['accuracy'])\n",
        "axis[0,0].set_title('train accuracy')\n",
        "axis[0,1].plot(history.history['loss'])\n",
        "axis[0,1].set_title('train loss')\n",
        "axis[1,0].plot(history.history['val_accuracy'])\n",
        "axis[1,0].set_title('val accuracy')\n",
        "axis[1,1].plot(history.history['val_loss'])\n",
        "axis[1,1].set_title('val loss')\n",
        "plt.show()"
      ],
      "id": "wrVTNcVm5kCl",
      "execution_count": null,
      "outputs": [
        {
          "output_type": "display_data",
          "data": {
            "image/png": "[encoded data removed]",
            "text/plain": [
              "<Figure size 720x720 with 4 Axes>"
            ]
          },
          "metadata": {
            "tags": [],
            "needs_background": "light"
          }
        }
      ]
    },
    {
      "cell_type": "code",
      "metadata": {
        "id": "_m7_RABHxKcc"
      },
      "source": [
        "#save model\n",
        "model.save('/content/drive/MyDrive/Colab Notebooks/NMT/nmt.h5')"
      ],
      "id": "_m7_RABHxKcc",
      "execution_count": null,
      "outputs": []
    },
    {
      "cell_type": "code",
      "metadata": {
        "id": "LarBCbbh6_aF"
      },
      "source": [
        "#getting output of intermediate layers\n",
        "# inter_layer = Model(inputs=model.layers[0].input, outputs=model.layers[2].output)\n",
        "# int_out = inter_layer(padded_eng[0])\n",
        "# int_out[0]"
      ],
      "id": "LarBCbbh6_aF",
      "execution_count": null,
      "outputs": []
    },
    {
      "cell_type": "code",
      "metadata": {
        "id": "enhanced-moscow"
      },
      "source": [
        "p = model.predict([padded_eng[5].reshape(1,padded_eng.shape[1]), padded_hin_in[5].reshape(1,padded_hin_in.shape[1])])"
      ],
      "id": "enhanced-moscow",
      "execution_count": null,
      "outputs": []
    },
    {
      "cell_type": "code",
      "metadata": {
        "id": "44rGyWV42KDm",
        "colab": {
          "base_uri": "https://localhost:8080/"
        },
        "outputId": "fc435631-9705-4802-87fc-aac2ec48d53d"
      },
      "source": [
        "p.shape, p[0][0].shape,  p[0][0], np.argmax(p[0][0]), padded_hin_out[5][0]"
      ],
      "id": "44rGyWV42KDm",
      "execution_count": null,
      "outputs": [
        {
          "output_type": "execute_result",
          "data": {
            "text/plain": [
              "((1, 16, 40225),\n",
              " (40225,),\n",
              " array([1.6420777e-14, 2.0042288e-38, 4.7537553e-19, ..., 3.4412759e-18,\n",
              "        3.5853482e-18, 3.3912263e-18], dtype=float32),\n",
              " 18646,\n",
              " 28581)"
            ]
          },
          "metadata": {
            "tags": []
          },
          "execution_count": 53
        }
      ]
    },
    {
      "cell_type": "code",
      "metadata": {
        "id": "chicken-shoulder"
      },
      "source": [
        "# import numpy as np\n",
        "# tokenizer_hin.sequences_to_texts([np.argmax(p[0], axis=1)])"
      ],
      "id": "chicken-shoulder",
      "execution_count": null,
      "outputs": []
    },
    {
      "cell_type": "code",
      "metadata": {
        "id": "cdGkZjtMkMEu"
      },
      "source": [
        "from tensorflow.keras.utils import plot_model\n",
        "#plot_model(model, to_file='model.png', show_shapes=True, show_dtype=True, show_layer_names=True)"
      ],
      "id": "cdGkZjtMkMEu",
      "execution_count": null,
      "outputs": []
    },
    {
      "cell_type": "markdown",
      "metadata": {
        "id": "LkIa8qB35W6B"
      },
      "source": [
        "**Inference** -------------------------------------------------------------------------------------"
      ],
      "id": "LkIa8qB35W6B"
    },
    {
      "cell_type": "code",
      "metadata": {
        "id": "tePQILv-4_in"
      },
      "source": [
        "#encoder inference model\n",
        "from tensorflow.keras.models import load_model\n",
        "model_load = load_model('/content/drive/MyDrive/Colab Notebooks/NMT/nmt.h5')"
      ],
      "id": "tePQILv-4_in",
      "execution_count": null,
      "outputs": []
    },
    {
      "cell_type": "code",
      "metadata": {
        "id": "w2UwaF4ejjCi"
      },
      "source": [
        "#model_load.summary()"
      ],
      "id": "w2UwaF4ejjCi",
      "execution_count": null,
      "outputs": []
    },
    {
      "cell_type": "code",
      "metadata": {
        "id": "ZOPNn34Feysb",
        "colab": {
          "base_uri": "https://localhost:8080/"
        },
        "outputId": "5ab27553-7159-491d-a882-de7edcbda04e"
      },
      "source": [
        "model_load.layers"
      ],
      "id": "ZOPNn34Feysb",
      "execution_count": null,
      "outputs": [
        {
          "output_type": "execute_result",
          "data": {
            "text/plain": [
              "[<tensorflow.python.keras.engine.input_layer.InputLayer at 0x7f42004a6f10>,\n",
              " <tensorflow.python.keras.engine.input_layer.InputLayer at 0x7f420073fe10>,\n",
              " <tensorflow.python.keras.layers.embeddings.Embedding at 0x7f42004840d0>,\n",
              " <tensorflow.python.keras.layers.embeddings.Embedding at 0x7f42066f1610>,\n",
              " <tensorflow.python.keras.layers.recurrent_v2.LSTM at 0x7f4205bd3ad0>,\n",
              " <tensorflow.python.keras.layers.recurrent_v2.LSTM at 0x7f4249a4f1d0>,\n",
              " <tensorflow.python.keras.layers.core.Dense at 0x7f42096f78d0>]"
            ]
          },
          "metadata": {
            "tags": []
          },
          "execution_count": 62
        }
      ]
    },
    {
      "cell_type": "markdown",
      "metadata": {
        "id": "3O4x0dFgjkZ1"
      },
      "source": [
        "Encoder Inference Model"
      ],
      "id": "3O4x0dFgjkZ1"
    },
    {
      "cell_type": "code",
      "metadata": {
        "id": "b784qiMBA2ZS",
        "colab": {
          "base_uri": "https://localhost:8080/"
        },
        "outputId": "c699a7ac-53bc-45c2-a798-5492ff54131c"
      },
      "source": [
        "inf_enc_model = Model(inputs=model_load.layers[0].output, outputs=model_load.layers[4].output)\n",
        "ip, ip_h, ip_c = inf_enc_model.predict(padded_eng[0].reshape(1,padded_eng.shape[1]))\n",
        "inf_enc_model.summary()"
      ],
      "id": "b784qiMBA2ZS",
      "execution_count": 76,
      "outputs": [
        {
          "output_type": "stream",
          "text": [
            "Model: \"model_2\"\n",
            "_________________________________________________________________\n",
            "Layer (type)                 Output Shape              Param #   \n",
            "=================================================================\n",
            "eng_inp_tensor (InputLayer)  [(None, None)]            0         \n",
            "_________________________________________________________________\n",
            "embedding_2 (Embedding)      (None, None, 128)         4346496   \n",
            "_________________________________________________________________\n",
            "lstm_2 (LSTM)                [(None, 64), (None, 64),  49408     \n",
            "=================================================================\n",
            "Total params: 4,395,904\n",
            "Trainable params: 4,395,904\n",
            "Non-trainable params: 0\n",
            "_________________________________________________________________\n"
          ],
          "name": "stdout"
        }
      ]
    },
    {
      "cell_type": "code",
      "metadata": {
        "colab": {
          "base_uri": "https://localhost:8080/",
          "height": 312
        },
        "id": "Soz1g2KutsQn",
        "outputId": "60e0b7d5-ebbe-44b3-f6f1-cbaa73ccf643"
      },
      "source": [
        "plot_model(inf_enc_model, to_file='encoder_model.png', show_shapes=True, show_dtype=True, show_layer_names=True,)"
      ],
      "id": "Soz1g2KutsQn",
      "execution_count": 77,
      "outputs": [
        {
          "output_type": "execute_result",
          "data": {
            "image/png": "[encoded data removed]",
            "text/plain": [
              "<IPython.core.display.Image object>"
            ]
          },
          "metadata": {
            "tags": []
          },
          "execution_count": 77
        }
      ]
    },
    {
      "cell_type": "code",
      "metadata": {
        "id": "1kkv5PlaXcYi"
      },
      "source": [
        "#_, eh, ec = inf_enc_model.predict(padded_eng[0].reshape(1,padded_eng.shape[1]))"
      ],
      "id": "1kkv5PlaXcYi",
      "execution_count": null,
      "outputs": []
    },
    {
      "cell_type": "code",
      "metadata": {
        "id": "AZjufsdeg8lp"
      },
      "source": [
        "#padded_eng.shape, padded_eng[0].shape, padded_eng[0].reshape(1,padded_eng.shape[1]).shape"
      ],
      "id": "AZjufsdeg8lp",
      "execution_count": null,
      "outputs": []
    },
    {
      "cell_type": "code",
      "metadata": {
        "id": "FRDuuZO2XwUJ"
      },
      "source": [
        "#eh.shape, ec.shape"
      ],
      "id": "FRDuuZO2XwUJ",
      "execution_count": null,
      "outputs": []
    },
    {
      "cell_type": "markdown",
      "metadata": {
        "id": "fjKvYVHijbmH"
      },
      "source": [
        "Decoder Inference Model"
      ],
      "id": "fjKvYVHijbmH"
    },
    {
      "cell_type": "code",
      "metadata": {
        "id": "BYL2pSR1Wct8"
      },
      "source": [
        "#decoder inference model\n",
        "dec_input_state_h = Input(shape=(None,))\n",
        "dec_input_state_c = Input(shape=(None,))\n",
        "dec_inputs_states = [dec_input_state_h, dec_input_state_c]\n",
        "dec_out, dec_h, dec_c = model_load.layers[5](model_load.layers[3].output, initial_state=dec_inputs_states)\n",
        "\n",
        "dec_output = model_load.layers[6](dec_out)\n",
        "\n",
        "dec_model_final = Model(inputs=[model_load.layers[1].output, dec_inputs_states], outputs=[dec_output, [dec_h, dec_c]])"
      ],
      "id": "BYL2pSR1Wct8",
      "execution_count": null,
      "outputs": []
    },
    {
      "cell_type": "code",
      "metadata": {
        "id": "0Dl93j5JM93e",
        "colab": {
          "base_uri": "https://localhost:8080/",
          "height": 341
        },
        "outputId": "225fbcf1-ceae-4f24-d840-1a3b63356c02"
      },
      "source": [
        "plot_model(dec_model_final, to_file='decoder_model.png', show_shapes=True, show_dtype=True, show_layer_names=True,)"
      ],
      "id": "0Dl93j5JM93e",
      "execution_count": 78,
      "outputs": [
        {
          "output_type": "execute_result",
          "data": {
            "image/png": "[encoded data removed]",
            "text/plain": [
              "<IPython.core.display.Image object>"
            ]
          },
          "metadata": {
            "tags": []
          },
          "execution_count": 78
        }
      ]
    },
    {
      "cell_type": "code",
      "metadata": {
        "id": "EDm0HHAGZbrS"
      },
      "source": [
        "def translate(eng_sent):\n",
        "  _, eh, ec = inf_enc_model.predict(eng_sent.reshape(1, len(eng_sent)))\n",
        "  translated = []\n",
        "  dec_inp_seq = np.array([2]).reshape(1,1) #2 for start and 1 for end\n",
        "  stop = False\n",
        "  while not stop:\n",
        "    d, [eh, ec] = dec_model_final.predict([dec_inp_seq, [eh, ec]])\n",
        "    dec_inp_seq[:,] = np.argmax(d[0][0])\n",
        "    translated.append(np.argmax(d[0][0]))\n",
        "\n",
        "    if dec_inp_seq[0][0] == 1 or len(translated)>16:\n",
        "      stop = True\n",
        "  return translated"
      ],
      "id": "EDm0HHAGZbrS",
      "execution_count": null,
      "outputs": []
    },
    {
      "cell_type": "code",
      "metadata": {
        "colab": {
          "base_uri": "https://localhost:8080/"
        },
        "id": "BJOw_doHZu1G",
        "outputId": "b4ccfde6-695a-4b98-b373-3bf53725ca61"
      },
      "source": [
        "l = translate(padded_eng[5])\n",
        "print('actual eng text : ', tokenizer_eng.sequences_to_texts([padded_eng[5]]))\n",
        "print('actual hindi text : ', tokenizer_hin.sequences_to_texts([padded_hin[5]]))\n",
        "print()\n",
        "print('translated hindi text : ', tokenizer_hin.sequences_to_texts([l[:-1]])) #last one is end so tranucated"
      ],
      "id": "BJOw_doHZu1G",
      "execution_count": null,
      "outputs": [
        {
          "output_type": "stream",
          "text": [
            "actual eng text :  ['the holy dip is on november']\n",
            "actual hindi text :  ['मुख्य स्नान नवंबर को है']\n",
            "\n",
            "translated hindi text :  ['नवंबर को अंतिम रूप से ये संशोधित श्रृंखला शुरू होती है।']\n"
          ],
          "name": "stdout"
        }
      ]
    },
    {
      "cell_type": "code",
      "metadata": {
        "id": "N79zm102k_B8"
      },
      "source": [
        "def custom_trans(sent):\n",
        "  seq = tokenizer_eng.texts_to_sequences(sent)\n",
        "  padded_seq = pad_sequences(seq, padding='post', maxlen=max(eng_sent_len))\n",
        "  hin_out = translate(padded_seq[0])\n",
        "  print('the eng sent is : ', sent)\n",
        "  print('the translated hin sent is :', tokenizer_hin.sequences_to_texts([hin_out[:-1]]))"
      ],
      "id": "N79zm102k_B8",
      "execution_count": null,
      "outputs": []
    },
    {
      "cell_type": "code",
      "metadata": {
        "colab": {
          "base_uri": "https://localhost:8080/"
        },
        "id": "HFXvWY6DKglu",
        "outputId": "6a441dbb-1943-4165-b657-b6e054eddbaa"
      },
      "source": [
        "custom_trans(['dwarka is also a dhaam among the chaar dhaams'])"
      ],
      "id": "HFXvWY6DKglu",
      "execution_count": null,
      "outputs": [
        {
          "output_type": "stream",
          "text": [
            "the eng sent is :  ['dwarka is also a dhaam among the chaar dhaams']\n",
            "the translated hin sent is : ['द्वारका में ये गांव को मूल्य उपलब्ध होगा।']\n"
          ],
          "name": "stdout"
        }
      ]
    }
  ]
}